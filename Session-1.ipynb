{
 "cells": [
  {
   "cell_type": "markdown",
   "metadata": {},
   "source": [
    "# Natural Language Processing\n",
    "Natural language processing (NLP) is the field of designing methods and algorithms that take as input or produce as output unstructured, natural language data. \n",
    "\n",
    "## Introduction to the problem\n",
    "### Language is a ambiguous \n",
    "- Human language is highly ambiguous (consider the sentence __I ate pizza with friends__, and compare it to __I ate pizza with olives__), and also highly variable (the core message of __I ate pizza with friends__ can also be expressed as __friends and I shared some pizza__). \n",
    "### And Changing \n",
    "- It is also ever changing and evolving. People are great at producing language and understanding language, and are capable of expressing, perceiving, and interpreting very elaborate and nuanced meanings. \n",
    "### With  poor formalization \n",
    "- At the same time, while we humans are great users of language, we are also very poor at formally understanding and describing the rules that govern language.\n",
    "\n",
    "### Language is compositional \n",
    "- We have alphabets &rarr; creating words &rarr; creating sentences &rarr; creating paragraphs ...\n",
    "### Language is symbolic and discreet \n",
    "- Both characters and words are discrete symbols: words such as “hamburger” or “pizza” each evoke in us a certain mental representations, but they are also distinct symbols, whose meaning is external to them and left to be interpreted in our heads. There is no inherent relation between “hamburger” and “pizza” that can be inferred from the symbols themselves, or from the individual letters they are made of. \n",
    "- Compare that to concepts such as color, prevalent in machine vision, red can be changes to pink in continuous scale. But the work pink cannot be changes to the work red in any direct way. \n",
    "\n",
    "## All the above makes text data very sparse \n",
    "- There are infinite ways in which characters and words can be combined to fo"
   ]
  },
  {
   "cell_type": "code",
   "execution_count": null,
   "metadata": {},
   "outputs": [],
   "source": []
  }
 ],
 "metadata": {
  "kernelspec": {
   "display_name": "Python 3.10.0 ('ipl-bFH6s7UH')",
   "language": "python",
   "name": "python3"
  },
  "language_info": {
   "name": "python",
   "version": "3.10.0"
  },
  "orig_nbformat": 4,
  "vscode": {
   "interpreter": {
    "hash": "ebc29b9cf74b23978a74526dcaa783cb34e1a04eaff6f1fe373926e923ff273b"
   }
  }
 },
 "nbformat": 4,
 "nbformat_minor": 2
}
